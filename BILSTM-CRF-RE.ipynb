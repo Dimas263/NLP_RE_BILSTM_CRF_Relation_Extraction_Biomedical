{
 "cells": [
  {
   "cell_type": "markdown",
   "source": [],
   "metadata": {
    "collapsed": false
   }
  },
  {
   "cell_type": "markdown",
   "source": [
    "# <img src=\"https://img.icons8.com/external-flaticons-lineal-color-flat-icons/64/undefined/external-big-data-smart-technology-flaticons-lineal-color-flat-icons-2.png\"/> **NLP Research - Relation Extraction**"
   ],
   "metadata": {
    "collapsed": false
   }
  },
  {
   "cell_type": "markdown",
   "source": [
    "## <img src=\"https://img.icons8.com/external-smashingstocks-flat-smashing-stocks/64/000000/external-manager-hotel-smashingstocks-flat-smashing-stocks-2.png\"/> **`Slamet Riyanto S.Kom., M.M.S.I.`**\n",
    "\n",
    "## <img src=\"https://img.icons8.com/external-fauzidea-flat-fauzidea/64/undefined/external-man-avatar-avatar-fauzidea-flat-fauzidea.png\"/> **`Dimas Dwi Putra`**\n"
   ],
   "metadata": {
    "collapsed": false
   }
  },
  {
   "cell_type": "code",
   "execution_count": null,
   "metadata": {
    "id": "fXOZ51jScgzl"
   },
   "outputs": [],
   "source": [
    "! pip install pandas==0.23.4\n",
    "! pip install keras==2.3.1\n",
    "! pip install termcolor==1.1.0\n",
    "! pip install six==1.16.0\n",
    "! pip install tensorflow==1.13.1\n",
    "! pip install numpy==1.16.2\n",
    "! pip install matplotlib==2.2.4\n",
    "! pip install scikit-learn==0.24.2\n",
    "! pip install h5py==2.10.0\n",
    "! pip install git+https://www.github.com/keras-team/keras-contrib.git"
   ]
  },
  {
   "cell_type": "code",
   "source": [
    "import warnings\n",
    "warnings.filterwarnings(\"ignore\")"
   ],
   "metadata": {
    "id": "fDkkvwtX-Hv0",
    "executionInfo": {
     "status": "ok",
     "timestamp": 1659143692332,
     "user_tz": -420,
     "elapsed": 371,
     "user": {
      "displayName": "Data Mining",
      "userId": "02757270100510414161"
     }
    }
   },
   "execution_count": 2,
   "outputs": []
  },
  {
   "cell_type": "code",
   "source": [
    "import sys\n",
    "import os\n",
    "import json\n",
    "import numpy as np\n",
    "\n",
    "os.environ['CUDA_VISIBLE_DEVICES'] = '-1'\n",
    "\n",
    "from keras.utils import to_categorical\n",
    "from keras.utils import plot_model\n",
    "from keras.models import Model\n",
    "from keras.models import Sequential\n",
    "from keras.models import load_model\n",
    "from keras.optimizers import Adam\n",
    "from keras.layers import Input, Dense\n",
    "from keras.layers import GRU, LSTM, Bidirectional\n",
    "from keras.layers import Embedding, TimeDistributed, Dropout\n",
    "from keras.callbacks import EarlyStopping\n",
    "from keras.callbacks import ModelCheckpoint\n",
    "from keras_contrib.layers.crf import CRF\n",
    "\n",
    "import matplotlib.pyplot as plt\n",
    "from sklearn.metrics import classification_report\n",
    "from operator import itemgetter"
   ],
   "metadata": {
    "colab": {
     "base_uri": "https://localhost:8080/"
    },
    "id": "cFK8LnchRg5Z",
    "executionInfo": {
     "status": "ok",
     "timestamp": 1659143696784,
     "user_tz": -420,
     "elapsed": 2766,
     "user": {
      "displayName": "Data Mining",
      "userId": "02757270100510414161"
     }
    },
    "outputId": "f07bae7a-73b2-4b72-da4c-b2040f10e53a"
   },
   "execution_count": 3,
   "outputs": [
    {
     "name": "stderr",
     "output_type": "stream",
     "text": [
      "Using TensorFlow backend.\n"
     ]
    }
   ]
  },
  {
   "cell_type": "code",
   "source": [
    "py_file_location = \"\"\n",
    "sys.path.append(os.path.abspath(py_file_location))"
   ],
   "metadata": {
    "id": "ZrNY-4VwgVI5",
    "executionInfo": {
     "status": "ok",
     "timestamp": 1659143698449,
     "user_tz": -420,
     "elapsed": 8,
     "user": {
      "displayName": "Data Mining",
      "userId": "02757270100510414161"
     }
    }
   },
   "execution_count": 4,
   "outputs": []
  },
  {
   "cell_type": "code",
   "source": [
    "from utils.load_data import get_train_test_pd\n",
    "from utils.extract_feature import BertVector\n",
    "from utils.att import Attention"
   ],
   "metadata": {
    "id": "_XpuqMQxUgpU",
    "executionInfo": {
     "status": "ok",
     "timestamp": 1659143704316,
     "user_tz": -420,
     "elapsed": 4520,
     "user": {
      "displayName": "Data Mining",
      "userId": "02757270100510414161"
     }
    }
   },
   "execution_count": 5,
   "outputs": []
  },
  {
   "cell_type": "markdown",
   "source": [
    "# Train"
   ],
   "metadata": {
    "id": "x-RD5FaAd_bV"
   }
  },
  {
   "cell_type": "markdown",
   "source": [
    "Encoding Process"
   ],
   "metadata": {
    "id": "KQrVEFQ2SEx3"
   }
  },
  {
   "cell_type": "code",
   "source": [
    "train_df, test_df = get_train_test_pd()\n",
    "bert_model = BertVector(pooling_strategy=\"NONE\", max_seq_len=512)\n",
    "print('begin encoding')\n",
    "f = lambda text: bert_model.encode([text])[\"encodes\"][0]\n",
    "\n",
    "train_df['x'] = train_df['text'].apply(f)\n",
    "test_df['x'] = test_df['text'].apply(f)\n",
    "print('end encoding')"
   ],
   "metadata": {
    "colab": {
     "base_uri": "https://localhost:8080/"
    },
    "id": "7BfaSNoCSCfa",
    "executionInfo": {
     "status": "ok",
     "timestamp": 1659146389940,
     "user_tz": -420,
     "elapsed": 2685636,
     "user": {
      "displayName": "Data Mining",
      "userId": "02757270100510414161"
     }
    },
    "outputId": "4042112a-45fc-4757-af25-b7e6180f3ea2"
   },
   "execution_count": 7,
   "outputs": [
    {
     "output_type": "stream",
     "name": "stderr",
     "text": [
      "I:\u001B[33mPROCESS\u001B[0m:[graph:opt: 49]:model config: /content/drive/MyDrive/Rearch_Dimas/BILSTM_CRF_RE/multi_cased_L-12_H-768_A-12/bert_config.json\n",
      "I:\u001B[33mPROCESS\u001B[0m:[graph:opt: 55]:build graph...\n"
     ]
    },
    {
     "output_type": "stream",
     "name": "stdout",
     "text": [
      "\n",
      "WARNING: The TensorFlow contrib module will not be included in TensorFlow 2.0.\n",
      "For more information, please see:\n",
      "  * https://github.com/tensorflow/community/blob/master/rfcs/20180907-contrib-sunset.md\n",
      "  * https://github.com/tensorflow/addons\n",
      "If you depend on functionality not listed there, please file an issue.\n",
      "\n"
     ]
    },
    {
     "output_type": "stream",
     "name": "stderr",
     "text": [
      "I:\u001B[33mPROCESS\u001B[0m:[graph:opt:132]:load parameters from checkpoint...\n",
      "I:\u001B[33mPROCESS\u001B[0m:[graph:opt:134]:freeze...\n",
      "I:\u001B[33mPROCESS\u001B[0m:[graph:opt:137]:optimize...\n",
      "I:\u001B[33mPROCESS\u001B[0m:[graph:opt:148]:write graph to a tmp file: /content/drive/MyDrive/Rearch_Dimas/BILSTM_CRF_RE/tmp_graph11\n"
     ]
    },
    {
     "output_type": "stream",
     "name": "stdout",
     "text": [
      "begin encoding\n",
      "end encoding\n"
     ]
    }
   ]
  },
  {
   "cell_type": "markdown",
   "source": [
    "Training and Test Set"
   ],
   "metadata": {
    "id": "W2TIHgwUSLpr"
   }
  },
  {
   "cell_type": "code",
   "source": [
    "x_train = np.array([vec for vec in train_df['x']])\n",
    "x_test = np.array([vec for vec in test_df['x']])\n",
    "y_train = np.array([vec for vec in train_df['label']])\n",
    "y_test = np.array([vec for vec in test_df['label']])\n",
    "print('x_train: ', x_train.shape)"
   ],
   "metadata": {
    "colab": {
     "base_uri": "https://localhost:8080/"
    },
    "id": "g7ddkKJhSJkG",
    "executionInfo": {
     "status": "ok",
     "timestamp": 1659148636178,
     "user_tz": -420,
     "elapsed": 1285,
     "user": {
      "displayName": "Data Mining",
      "userId": "02757270100510414161"
     }
    },
    "outputId": "17b8e89c-d335-4066-f640-b403bea20169"
   },
   "execution_count": 106,
   "outputs": [
    {
     "output_type": "stream",
     "name": "stdout",
     "text": [
      "x_train:  (1046, 512, 768)\n"
     ]
    }
   ]
  },
  {
   "cell_type": "code",
   "source": [
    "num_classes = 4 # {cause of disease, treatment of disease, association, negative}\n",
    "y_train = to_categorical(y_train, num_classes)\n",
    "y_test = to_categorical(y_test, num_classes)"
   ],
   "metadata": {
    "id": "_ZXWO9SMSWzH",
    "executionInfo": {
     "status": "ok",
     "timestamp": 1659148638038,
     "user_tz": -420,
     "elapsed": 333,
     "user": {
      "displayName": "Data Mining",
      "userId": "02757270100510414161"
     }
    }
   },
   "execution_count": 107,
   "outputs": []
  },
  {
   "cell_type": "code",
   "source": [
    "print(\"Size of training input data : \", x_train.shape)\n",
    "print(\"Size of training output data : \", y_train.shape)\n",
    "print(\"Size of testing input data : \", x_test.shape)\n",
    "print(\"Size of testing output data : \", y_test.shape)"
   ],
   "metadata": {
    "colab": {
     "base_uri": "https://localhost:8080/"
    },
    "id": "GZNL1s369GNh",
    "executionInfo": {
     "status": "ok",
     "timestamp": 1659148639202,
     "user_tz": -420,
     "elapsed": 9,
     "user": {
      "displayName": "Data Mining",
      "userId": "02757270100510414161"
     }
    },
    "outputId": "6354d8b3-e313-405b-a681-171884e04107"
   },
   "execution_count": 108,
   "outputs": [
    {
     "output_type": "stream",
     "name": "stdout",
     "text": [
      "Size of training input data :  (1046, 512, 768)\n",
      "Size of training output data :  (1046, 4)\n",
      "Size of testing input data :  (261, 512, 768)\n",
      "Size of testing output data :  (261, 4)\n"
     ]
    }
   ]
  },
  {
   "cell_type": "markdown",
   "source": [
    "Model Config"
   ],
   "metadata": {
    "id": "hBouwZXZSbP1"
   }
  },
  {
   "cell_type": "code",
   "source": [
    "inputs = Input(shape=(512, 768, ), name=\"Input\")\n",
    "# gru = Bidirectional(GRU(128, dropout=0.2, return_sequences=True))(inputs)\n",
    "bilstm = Bidirectional(LSTM(128, dropout=0.2, return_sequences=True, name=\"Long-Short-Term-Memory\"), name=\"Bidirectional\")(inputs)\n",
    "attention = Attention(32, name=\"CRF-Attention\")(bilstm)\n",
    "dense = Dense(num_classes, activation='softmax', name=\"Output\")(attention)\n",
    "\n",
    "model = Model(inputs, dense, name=\"Relation-Extraction-BiLSTM-CRF-Attention-FC\")"
   ],
   "metadata": {
    "id": "GqnhUl_nymp3",
    "executionInfo": {
     "status": "ok",
     "timestamp": 1659154797279,
     "user_tz": -420,
     "elapsed": 1785,
     "user": {
      "displayName": "Data Mining",
      "userId": "02757270100510414161"
     }
    }
   },
   "execution_count": 369,
   "outputs": []
  },
  {
   "cell_type": "code",
   "source": [
    "# If there are .hdf5 files in the original models folder, delete them all\n",
    "model_dir = '/content/drive/MyDrive/Rearch_Dimas/BILSTM_CRF_RE/output'\n",
    "if os.listdir(model_dir):\n",
    "    for file in os.listdir(model_dir):\n",
    "        os.remove(os.path.join(model_dir, file))"
   ],
   "metadata": {
    "id": "PMUz5da3TFmm",
    "executionInfo": {
     "status": "ok",
     "timestamp": 1659154799555,
     "user_tz": -420,
     "elapsed": 614,
     "user": {
      "displayName": "Data Mining",
      "userId": "02757270100510414161"
     }
    }
   },
   "execution_count": 370,
   "outputs": []
  },
  {
   "cell_type": "markdown",
   "source": [
    "Model Visualization"
   ],
   "metadata": {
    "id": "QQu1uEMcSrHA"
   }
  },
  {
   "cell_type": "code",
   "source": [
    "plot_model(model, to_file='/content/drive/MyDrive/Rearch_Dimas/BILSTM_CRF_RE/output/model.png', show_shapes=True)"
   ],
   "metadata": {
    "colab": {
     "base_uri": "https://localhost:8080/",
     "height": 422
    },
    "id": "qbQaWtPpSpJ4",
    "executionInfo": {
     "status": "ok",
     "timestamp": 1659154858867,
     "user_tz": -420,
     "elapsed": 1297,
     "user": {
      "displayName": "Data Mining",
      "userId": "02757270100510414161"
     }
    },
    "outputId": "879285c8-f8e7-48c0-f529-5bc461d547aa"
   },
   "execution_count": 376,
   "outputs": [
    {
     "output_type": "execute_result",
     "data": {
      "text/plain": [
       "<IPython.core.display.Image object>"
      ],
      "image/png": "[encoded data removed]"
     },
     "metadata": {},
     "execution_count": 376
    }
   ]
  },
  {
   "cell_type": "markdown",
   "source": [
    "Model Process"
   ],
   "metadata": {
    "id": "0yi6xFCdSx9o"
   }
  },
  {
   "cell_type": "code",
   "source": [
    "model.summary()"
   ],
   "metadata": {
    "colab": {
     "base_uri": "https://localhost:8080/"
    },
    "id": "x4bMv084sZGz",
    "executionInfo": {
     "status": "ok",
     "timestamp": 1659154807953,
     "user_tz": -420,
     "elapsed": 345,
     "user": {
      "displayName": "Data Mining",
      "userId": "02757270100510414161"
     }
    },
    "outputId": "75e2cd1a-599a-4be9-bb5c-627802c4dbca"
   },
   "execution_count": 372,
   "outputs": [
    {
     "output_type": "stream",
     "name": "stdout",
     "text": [
      "Model: \"Relation-Extraction-BiLSTM-CRF-Attention-FC\"\n",
      "_________________________________________________________________\n",
      "Layer (type)                 Output Shape              Param #   \n",
      "=================================================================\n",
      "Input (InputLayer)           (None, 512, 768)          0         \n",
      "_________________________________________________________________\n",
      "Bidirectional (Bidirectional (None, 512, 256)          918528    \n",
      "_________________________________________________________________\n",
      "CRF-Attention (Attention)    (None, 256)               8736      \n",
      "_________________________________________________________________\n",
      "Output (Dense)               (None, 4)                 1028      \n",
      "=================================================================\n",
      "Total params: 928,292\n",
      "Trainable params: 928,292\n",
      "Non-trainable params: 0\n",
      "_________________________________________________________________\n"
     ]
    }
   ]
  },
  {
   "cell_type": "code",
   "source": [
    "model.compile(loss='categorical_crossentropy', optimizer=Adam(), metrics=['accuracy'])"
   ],
   "metadata": {
    "id": "wjJp7PesVR7T",
    "executionInfo": {
     "status": "ok",
     "timestamp": 1659154814093,
     "user_tz": -420,
     "elapsed": 4,
     "user": {
      "displayName": "Data Mining",
      "userId": "02757270100510414161"
     }
    }
   },
   "execution_count": 373,
   "outputs": []
  },
  {
   "cell_type": "code",
   "source": [
    "early_stopping = EarlyStopping(monitor='val_accuracy', patience=5, mode='max')"
   ],
   "metadata": {
    "id": "-ISIvdWlSuMX",
    "executionInfo": {
     "status": "ok",
     "timestamp": 1659123059335,
     "user_tz": -420,
     "elapsed": 57,
     "user": {
      "displayName": "Data Mining",
      "userId": "02757270100510414161"
     }
    }
   },
   "execution_count": 13,
   "outputs": []
  },
  {
   "cell_type": "code",
   "source": [
    "# Save the latest val_acc best model file\n",
    "filepath=\"/content/drive/MyDrive/Rearch_Dimas/BILSTM_CRF_RE/output/per-rel-{epoch:02d}-{val_accuracy:.4f}.hdf5\"\n",
    "checkpoint = ModelCheckpoint(filepath, monitor='val_accuracy', verbose=1, save_best_only=True, mode='max')"
   ],
   "metadata": {
    "id": "cZBjVcakTEM8",
    "executionInfo": {
     "status": "ok",
     "timestamp": 1659154816430,
     "user_tz": -420,
     "elapsed": 362,
     "user": {
      "displayName": "Data Mining",
      "userId": "02757270100510414161"
     }
    }
   },
   "execution_count": 374,
   "outputs": []
  },
  {
   "cell_type": "code",
   "source": [
    "history = model.fit(\n",
    "    x_train, y_train, \n",
    "    validation_data=(x_test, y_test), \n",
    "    batch_size=8, \n",
    "    epochs=100, \n",
    "    callbacks=[checkpoint]) \n",
    "    # callbacks=[early_stopping, checkpoint])"
   ],
   "metadata": {
    "colab": {
     "base_uri": "https://localhost:8080/"
    },
    "id": "-URSx3nnTCSI",
    "executionInfo": {
     "status": "ok",
     "timestamp": 1659111653845,
     "user_tz": -420,
     "elapsed": 18915204,
     "user": {
      "displayName": "Data Mining",
      "userId": "02757270100510414161"
     }
    },
    "outputId": "795c4ffc-5c75-458e-a3de-9ca7165c2ba9"
   },
   "execution_count": 16,
   "outputs": [
    {
     "output_type": "stream",
     "name": "stdout",
     "text": [
      "Train on 1046 samples, validate on 261 samples\n",
      "Epoch 1/100\n",
      "1046/1046 [==============================] - 228s 218ms/step - loss: 1.0758 - accuracy: 0.4904 - val_loss: 0.9711 - val_accuracy: 0.5939\n",
      "\n",
      "Epoch 00001: val_accuracy improved from -inf to 0.59387, saving model to /content/drive/MyDrive/Rearch_Dimas/BILSTM_CRF_RE/output/per-rel-01-0.5939.hdf5\n",
      "Epoch 2/100\n",
      "1046/1046 [==============================] - 247s 236ms/step - loss: 0.8976 - accuracy: 0.6090 - val_loss: 0.8016 - val_accuracy: 0.6092\n",
      "\n",
      "Epoch 00002: val_accuracy improved from 0.59387 to 0.60920, saving model to /content/drive/MyDrive/Rearch_Dimas/BILSTM_CRF_RE/output/per-rel-02-0.6092.hdf5\n",
      "Epoch 3/100\n",
      "1046/1046 [==============================] - 231s 221ms/step - loss: 0.7115 - accuracy: 0.6902 - val_loss: 0.6653 - val_accuracy: 0.7165\n",
      "\n",
      "Epoch 00003: val_accuracy improved from 0.60920 to 0.71648, saving model to /content/drive/MyDrive/Rearch_Dimas/BILSTM_CRF_RE/output/per-rel-03-0.7165.hdf5\n",
      "Epoch 4/100\n",
      "1046/1046 [==============================] - 239s 228ms/step - loss: 0.5811 - accuracy: 0.7438 - val_loss: 0.6423 - val_accuracy: 0.7126\n",
      "\n",
      "Epoch 00004: val_accuracy did not improve from 0.71648\n",
      "Epoch 5/100\n",
      "1046/1046 [==============================] - 247s 236ms/step - loss: 0.4981 - accuracy: 0.7945 - val_loss: 0.6824 - val_accuracy: 0.6628\n",
      "\n",
      "Epoch 00005: val_accuracy did not improve from 0.71648\n",
      "Epoch 6/100\n",
      "1046/1046 [==============================] - 249s 238ms/step - loss: 0.4455 - accuracy: 0.8193 - val_loss: 0.6488 - val_accuracy: 0.6973\n",
      "\n",
      "Epoch 00006: val_accuracy did not improve from 0.71648\n",
      "Epoch 7/100\n",
      "1046/1046 [==============================] - 242s 232ms/step - loss: 0.3737 - accuracy: 0.8528 - val_loss: 0.5960 - val_accuracy: 0.7471\n",
      "\n",
      "Epoch 00007: val_accuracy improved from 0.71648 to 0.74713, saving model to /content/drive/MyDrive/Rearch_Dimas/BILSTM_CRF_RE/output/per-rel-07-0.7471.hdf5\n",
      "Epoch 8/100\n",
      "1046/1046 [==============================] - 239s 228ms/step - loss: 0.3012 - accuracy: 0.8843 - val_loss: 0.7217 - val_accuracy: 0.7241\n",
      "\n",
      "Epoch 00008: val_accuracy did not improve from 0.74713\n",
      "Epoch 9/100\n",
      "1046/1046 [==============================] - 215s 206ms/step - loss: 0.2889 - accuracy: 0.8815 - val_loss: 0.6844 - val_accuracy: 0.7165\n",
      "\n",
      "Epoch 00009: val_accuracy did not improve from 0.74713\n",
      "Epoch 10/100\n",
      "1046/1046 [==============================] - 202s 193ms/step - loss: 0.2582 - accuracy: 0.9025 - val_loss: 0.6444 - val_accuracy: 0.7433\n",
      "\n",
      "Epoch 00010: val_accuracy did not improve from 0.74713\n",
      "Epoch 11/100\n",
      "1046/1046 [==============================] - 192s 184ms/step - loss: 0.2227 - accuracy: 0.9264 - val_loss: 0.5934 - val_accuracy: 0.7739\n",
      "\n",
      "Epoch 00011: val_accuracy improved from 0.74713 to 0.77395, saving model to /content/drive/MyDrive/Rearch_Dimas/BILSTM_CRF_RE/output/per-rel-11-0.7739.hdf5\n",
      "Epoch 12/100\n",
      "1046/1046 [==============================] - 198s 189ms/step - loss: 0.1992 - accuracy: 0.9369 - val_loss: 0.6765 - val_accuracy: 0.7280\n",
      "\n",
      "Epoch 00012: val_accuracy did not improve from 0.77395\n",
      "Epoch 13/100\n",
      "1046/1046 [==============================] - 196s 187ms/step - loss: 0.1962 - accuracy: 0.9187 - val_loss: 0.6813 - val_accuracy: 0.7548\n",
      "\n",
      "Epoch 00013: val_accuracy did not improve from 0.77395\n",
      "Epoch 14/100\n",
      "1046/1046 [==============================] - 179s 171ms/step - loss: 0.1983 - accuracy: 0.9283 - val_loss: 0.9226 - val_accuracy: 0.6897\n",
      "\n",
      "Epoch 00014: val_accuracy did not improve from 0.77395\n",
      "Epoch 15/100\n",
      "1046/1046 [==============================] - 171s 163ms/step - loss: 0.1549 - accuracy: 0.9398 - val_loss: 0.8747 - val_accuracy: 0.7203\n",
      "\n",
      "Epoch 00015: val_accuracy did not improve from 0.77395\n",
      "Epoch 16/100\n",
      "1046/1046 [==============================] - 171s 163ms/step - loss: 0.1549 - accuracy: 0.9417 - val_loss: 0.7907 - val_accuracy: 0.7395\n",
      "\n",
      "Epoch 00016: val_accuracy did not improve from 0.77395\n",
      "Epoch 17/100\n",
      "1046/1046 [==============================] - 168s 160ms/step - loss: 0.1324 - accuracy: 0.9541 - val_loss: 0.7773 - val_accuracy: 0.7203\n",
      "\n",
      "Epoch 00017: val_accuracy did not improve from 0.77395\n",
      "Epoch 18/100\n",
      "1046/1046 [==============================] - 170s 162ms/step - loss: 0.1424 - accuracy: 0.9503 - val_loss: 0.7413 - val_accuracy: 0.7625\n",
      "\n",
      "Epoch 00018: val_accuracy did not improve from 0.77395\n",
      "Epoch 19/100\n",
      "1046/1046 [==============================] - 171s 163ms/step - loss: 0.1172 - accuracy: 0.9541 - val_loss: 0.7980 - val_accuracy: 0.7395\n",
      "\n",
      "Epoch 00019: val_accuracy did not improve from 0.77395\n",
      "Epoch 20/100\n",
      "1046/1046 [==============================] - 202s 193ms/step - loss: 0.1290 - accuracy: 0.9532 - val_loss: 0.8439 - val_accuracy: 0.7356\n",
      "\n",
      "Epoch 00020: val_accuracy did not improve from 0.77395\n",
      "Epoch 21/100\n",
      "1046/1046 [==============================] - 201s 192ms/step - loss: 0.1108 - accuracy: 0.9551 - val_loss: 0.9645 - val_accuracy: 0.7510\n",
      "\n",
      "Epoch 00021: val_accuracy did not improve from 0.77395\n",
      "Epoch 22/100\n",
      "1046/1046 [==============================] - 198s 190ms/step - loss: 0.1302 - accuracy: 0.9512 - val_loss: 0.8839 - val_accuracy: 0.7471\n",
      "\n",
      "Epoch 00022: val_accuracy did not improve from 0.77395\n",
      "Epoch 23/100\n",
      "1046/1046 [==============================] - 199s 190ms/step - loss: 0.1193 - accuracy: 0.9570 - val_loss: 0.9367 - val_accuracy: 0.7318\n",
      "\n",
      "Epoch 00023: val_accuracy did not improve from 0.77395\n",
      "Epoch 24/100\n",
      "1046/1046 [==============================] - 213s 203ms/step - loss: 0.1067 - accuracy: 0.9570 - val_loss: 0.9130 - val_accuracy: 0.7241\n",
      "\n",
      "Epoch 00024: val_accuracy did not improve from 0.77395\n",
      "Epoch 25/100\n",
      "1046/1046 [==============================] - 302s 289ms/step - loss: 0.0991 - accuracy: 0.9618 - val_loss: 0.9323 - val_accuracy: 0.7280\n",
      "\n",
      "Epoch 00025: val_accuracy did not improve from 0.77395\n",
      "Epoch 26/100\n",
      "1046/1046 [==============================] - 273s 261ms/step - loss: 0.1133 - accuracy: 0.9541 - val_loss: 0.9910 - val_accuracy: 0.7433\n",
      "\n",
      "Epoch 00026: val_accuracy did not improve from 0.77395\n",
      "Epoch 27/100\n",
      "1046/1046 [==============================] - 236s 226ms/step - loss: 0.0947 - accuracy: 0.9665 - val_loss: 1.0055 - val_accuracy: 0.7356\n",
      "\n",
      "Epoch 00027: val_accuracy did not improve from 0.77395\n",
      "Epoch 28/100\n",
      "1046/1046 [==============================] - 237s 227ms/step - loss: 0.1075 - accuracy: 0.9570 - val_loss: 0.8674 - val_accuracy: 0.7510\n",
      "\n",
      "Epoch 00028: val_accuracy did not improve from 0.77395\n",
      "Epoch 29/100\n",
      "1046/1046 [==============================] - 250s 239ms/step - loss: 0.1075 - accuracy: 0.9541 - val_loss: 0.9283 - val_accuracy: 0.7318\n",
      "\n",
      "Epoch 00029: val_accuracy did not improve from 0.77395\n",
      "Epoch 30/100\n",
      "1046/1046 [==============================] - 238s 228ms/step - loss: 0.0951 - accuracy: 0.9598 - val_loss: 0.9104 - val_accuracy: 0.7433\n",
      "\n",
      "Epoch 00030: val_accuracy did not improve from 0.77395\n",
      "Epoch 31/100\n",
      "1046/1046 [==============================] - 248s 237ms/step - loss: 0.0830 - accuracy: 0.9646 - val_loss: 1.0526 - val_accuracy: 0.7356\n",
      "\n",
      "Epoch 00031: val_accuracy did not improve from 0.77395\n",
      "Epoch 32/100\n",
      "1046/1046 [==============================] - 237s 226ms/step - loss: 0.0759 - accuracy: 0.9685 - val_loss: 1.0043 - val_accuracy: 0.7318\n",
      "\n",
      "Epoch 00032: val_accuracy did not improve from 0.77395\n",
      "Epoch 33/100\n",
      "1046/1046 [==============================] - 241s 230ms/step - loss: 0.0717 - accuracy: 0.9694 - val_loss: 1.1326 - val_accuracy: 0.7241\n",
      "\n",
      "Epoch 00033: val_accuracy did not improve from 0.77395\n",
      "Epoch 34/100\n",
      "1046/1046 [==============================] - 245s 234ms/step - loss: 0.0871 - accuracy: 0.9665 - val_loss: 0.8956 - val_accuracy: 0.7625\n",
      "\n",
      "Epoch 00034: val_accuracy did not improve from 0.77395\n",
      "Epoch 35/100\n",
      "1046/1046 [==============================] - 205s 196ms/step - loss: 0.0876 - accuracy: 0.9579 - val_loss: 1.0277 - val_accuracy: 0.7471\n",
      "\n",
      "Epoch 00035: val_accuracy did not improve from 0.77395\n",
      "Epoch 36/100\n",
      "1046/1046 [==============================] - 191s 183ms/step - loss: 0.0878 - accuracy: 0.9637 - val_loss: 0.9969 - val_accuracy: 0.7586\n",
      "\n",
      "Epoch 00036: val_accuracy did not improve from 0.77395\n",
      "Epoch 37/100\n",
      "1046/1046 [==============================] - 189s 181ms/step - loss: 0.0873 - accuracy: 0.9560 - val_loss: 0.9067 - val_accuracy: 0.7356\n",
      "\n",
      "Epoch 00037: val_accuracy did not improve from 0.77395\n",
      "Epoch 38/100\n",
      "1046/1046 [==============================] - 192s 183ms/step - loss: 0.0681 - accuracy: 0.9656 - val_loss: 1.1558 - val_accuracy: 0.7510\n",
      "\n",
      "Epoch 00038: val_accuracy did not improve from 0.77395\n",
      "Epoch 39/100\n",
      "1046/1046 [==============================] - 189s 180ms/step - loss: 0.1012 - accuracy: 0.9579 - val_loss: 0.9158 - val_accuracy: 0.7510\n",
      "\n",
      "Epoch 00039: val_accuracy did not improve from 0.77395\n",
      "Epoch 40/100\n",
      "1046/1046 [==============================] - 188s 179ms/step - loss: 0.0711 - accuracy: 0.9665 - val_loss: 0.9832 - val_accuracy: 0.7433\n",
      "\n",
      "Epoch 00040: val_accuracy did not improve from 0.77395\n",
      "Epoch 41/100\n",
      "1046/1046 [==============================] - 182s 174ms/step - loss: 0.0820 - accuracy: 0.9598 - val_loss: 1.0014 - val_accuracy: 0.7395\n",
      "\n",
      "Epoch 00041: val_accuracy did not improve from 0.77395\n",
      "Epoch 42/100\n",
      "1046/1046 [==============================] - 191s 182ms/step - loss: 0.0623 - accuracy: 0.9704 - val_loss: 1.0575 - val_accuracy: 0.7548\n",
      "\n",
      "Epoch 00042: val_accuracy did not improve from 0.77395\n",
      "Epoch 43/100\n",
      "1046/1046 [==============================] - 187s 179ms/step - loss: 0.0676 - accuracy: 0.9704 - val_loss: 1.0956 - val_accuracy: 0.7433\n",
      "\n",
      "Epoch 00043: val_accuracy did not improve from 0.77395\n",
      "Epoch 44/100\n",
      "1046/1046 [==============================] - 184s 176ms/step - loss: 0.0745 - accuracy: 0.9637 - val_loss: 1.0588 - val_accuracy: 0.7356\n",
      "\n",
      "Epoch 00044: val_accuracy did not improve from 0.77395\n",
      "Epoch 45/100\n",
      "1046/1046 [==============================] - 189s 181ms/step - loss: 0.0689 - accuracy: 0.9656 - val_loss: 1.1204 - val_accuracy: 0.7433\n",
      "\n",
      "Epoch 00045: val_accuracy did not improve from 0.77395\n",
      "Epoch 46/100\n",
      "1046/1046 [==============================] - 188s 180ms/step - loss: 0.0788 - accuracy: 0.9646 - val_loss: 1.1389 - val_accuracy: 0.7318\n",
      "\n",
      "Epoch 00046: val_accuracy did not improve from 0.77395\n",
      "Epoch 47/100\n",
      "1046/1046 [==============================] - 192s 184ms/step - loss: 0.0677 - accuracy: 0.9637 - val_loss: 0.9740 - val_accuracy: 0.7701\n",
      "\n",
      "Epoch 00047: val_accuracy did not improve from 0.77395\n",
      "Epoch 48/100\n",
      "1046/1046 [==============================] - 184s 176ms/step - loss: 0.0592 - accuracy: 0.9723 - val_loss: 1.0338 - val_accuracy: 0.7586\n",
      "\n",
      "Epoch 00048: val_accuracy did not improve from 0.77395\n",
      "Epoch 49/100\n",
      "1046/1046 [==============================] - 185s 177ms/step - loss: 0.1111 - accuracy: 0.9512 - val_loss: 0.9081 - val_accuracy: 0.7433\n",
      "\n",
      "Epoch 00049: val_accuracy did not improve from 0.77395\n",
      "Epoch 50/100\n",
      "1046/1046 [==============================] - 183s 175ms/step - loss: 0.0961 - accuracy: 0.9570 - val_loss: 1.0764 - val_accuracy: 0.7356\n",
      "\n",
      "Epoch 00050: val_accuracy did not improve from 0.77395\n",
      "Epoch 51/100\n",
      "1046/1046 [==============================] - 184s 176ms/step - loss: 0.1032 - accuracy: 0.9560 - val_loss: 0.8419 - val_accuracy: 0.7510\n",
      "\n",
      "Epoch 00051: val_accuracy did not improve from 0.77395\n",
      "Epoch 52/100\n",
      "1046/1046 [==============================] - 185s 177ms/step - loss: 0.0956 - accuracy: 0.9627 - val_loss: 0.9263 - val_accuracy: 0.7625\n",
      "\n",
      "Epoch 00052: val_accuracy did not improve from 0.77395\n",
      "Epoch 53/100\n",
      "1046/1046 [==============================] - 187s 178ms/step - loss: 0.0934 - accuracy: 0.9579 - val_loss: 0.9557 - val_accuracy: 0.7510\n",
      "\n",
      "Epoch 00053: val_accuracy did not improve from 0.77395\n",
      "Epoch 54/100\n",
      "1046/1046 [==============================] - 175s 167ms/step - loss: 0.0912 - accuracy: 0.9627 - val_loss: 1.0682 - val_accuracy: 0.7548\n",
      "\n",
      "Epoch 00054: val_accuracy did not improve from 0.77395\n",
      "Epoch 55/100\n",
      "1046/1046 [==============================] - 172s 164ms/step - loss: 0.0749 - accuracy: 0.9685 - val_loss: 0.9598 - val_accuracy: 0.7510\n",
      "\n",
      "Epoch 00055: val_accuracy did not improve from 0.77395\n",
      "Epoch 56/100\n",
      "1046/1046 [==============================] - 173s 166ms/step - loss: 0.0811 - accuracy: 0.9646 - val_loss: 1.0474 - val_accuracy: 0.7586\n",
      "\n",
      "Epoch 00056: val_accuracy did not improve from 0.77395\n",
      "Epoch 57/100\n",
      "1046/1046 [==============================] - 177s 169ms/step - loss: 0.0699 - accuracy: 0.9694 - val_loss: 1.0618 - val_accuracy: 0.7433\n",
      "\n",
      "Epoch 00057: val_accuracy did not improve from 0.77395\n",
      "Epoch 58/100\n",
      "1046/1046 [==============================] - 179s 171ms/step - loss: 0.0747 - accuracy: 0.9618 - val_loss: 1.0927 - val_accuracy: 0.7356\n",
      "\n",
      "Epoch 00058: val_accuracy did not improve from 0.77395\n",
      "Epoch 59/100\n",
      "1046/1046 [==============================] - 186s 178ms/step - loss: 0.0685 - accuracy: 0.9618 - val_loss: 1.0799 - val_accuracy: 0.7510\n",
      "\n",
      "Epoch 00059: val_accuracy did not improve from 0.77395\n",
      "Epoch 60/100\n",
      "1046/1046 [==============================] - 188s 180ms/step - loss: 0.0661 - accuracy: 0.9685 - val_loss: 1.1158 - val_accuracy: 0.7203\n",
      "\n",
      "Epoch 00060: val_accuracy did not improve from 0.77395\n",
      "Epoch 61/100\n",
      "1046/1046 [==============================] - 193s 184ms/step - loss: 0.0668 - accuracy: 0.9637 - val_loss: 1.1215 - val_accuracy: 0.7318\n",
      "\n",
      "Epoch 00061: val_accuracy did not improve from 0.77395\n",
      "Epoch 62/100\n",
      "1046/1046 [==============================] - 183s 175ms/step - loss: 0.0745 - accuracy: 0.9646 - val_loss: 1.0018 - val_accuracy: 0.7510\n",
      "\n",
      "Epoch 00062: val_accuracy did not improve from 0.77395\n",
      "Epoch 63/100\n",
      "1046/1046 [==============================] - 175s 168ms/step - loss: 0.0661 - accuracy: 0.9704 - val_loss: 1.0340 - val_accuracy: 0.7510\n",
      "\n",
      "Epoch 00063: val_accuracy did not improve from 0.77395\n",
      "Epoch 64/100\n",
      "1046/1046 [==============================] - 174s 166ms/step - loss: 0.0767 - accuracy: 0.9618 - val_loss: 1.0274 - val_accuracy: 0.7471\n",
      "\n",
      "Epoch 00064: val_accuracy did not improve from 0.77395\n",
      "Epoch 65/100\n",
      "1046/1046 [==============================] - 177s 169ms/step - loss: 0.0814 - accuracy: 0.9560 - val_loss: 1.0883 - val_accuracy: 0.7318\n",
      "\n",
      "Epoch 00065: val_accuracy did not improve from 0.77395\n",
      "Epoch 66/100\n",
      "1046/1046 [==============================] - 174s 167ms/step - loss: 0.0681 - accuracy: 0.9665 - val_loss: 1.1485 - val_accuracy: 0.7663\n",
      "\n",
      "Epoch 00066: val_accuracy did not improve from 0.77395\n",
      "Epoch 67/100\n",
      "1046/1046 [==============================] - 173s 166ms/step - loss: 0.0697 - accuracy: 0.9637 - val_loss: 1.1101 - val_accuracy: 0.7471\n",
      "\n",
      "Epoch 00067: val_accuracy did not improve from 0.77395\n",
      "Epoch 68/100\n",
      "1046/1046 [==============================] - 171s 164ms/step - loss: 0.0745 - accuracy: 0.9589 - val_loss: 0.9597 - val_accuracy: 0.7548\n",
      "\n",
      "Epoch 00068: val_accuracy did not improve from 0.77395\n",
      "Epoch 69/100\n",
      "1046/1046 [==============================] - 174s 166ms/step - loss: 0.1128 - accuracy: 0.9560 - val_loss: 0.9656 - val_accuracy: 0.7586\n",
      "\n",
      "Epoch 00069: val_accuracy did not improve from 0.77395\n",
      "Epoch 70/100\n",
      "1046/1046 [==============================] - 174s 166ms/step - loss: 0.0640 - accuracy: 0.9665 - val_loss: 1.1428 - val_accuracy: 0.7471\n",
      "\n",
      "Epoch 00070: val_accuracy did not improve from 0.77395\n",
      "Epoch 71/100\n",
      "1046/1046 [==============================] - 199s 190ms/step - loss: 0.0626 - accuracy: 0.9694 - val_loss: 1.0129 - val_accuracy: 0.7816\n",
      "\n",
      "Epoch 00071: val_accuracy improved from 0.77395 to 0.78161, saving model to /content/drive/MyDrive/Rearch_Dimas/BILSTM_CRF_RE/output/per-rel-71-0.7816.hdf5\n",
      "Epoch 72/100\n",
      "1046/1046 [==============================] - 186s 177ms/step - loss: 0.0569 - accuracy: 0.9694 - val_loss: 1.0820 - val_accuracy: 0.7586\n",
      "\n",
      "Epoch 00072: val_accuracy did not improve from 0.78161\n",
      "Epoch 73/100\n",
      "1046/1046 [==============================] - 178s 170ms/step - loss: 0.0596 - accuracy: 0.9646 - val_loss: 1.0930 - val_accuracy: 0.7548\n",
      "\n",
      "Epoch 00073: val_accuracy did not improve from 0.78161\n",
      "Epoch 74/100\n",
      "1046/1046 [==============================] - 174s 167ms/step - loss: 0.0596 - accuracy: 0.9665 - val_loss: 1.0761 - val_accuracy: 0.7586\n",
      "\n",
      "Epoch 00074: val_accuracy did not improve from 0.78161\n",
      "Epoch 75/100\n",
      "1046/1046 [==============================] - 177s 169ms/step - loss: 0.0588 - accuracy: 0.9694 - val_loss: 1.0950 - val_accuracy: 0.7663\n",
      "\n",
      "Epoch 00075: val_accuracy did not improve from 0.78161\n",
      "Epoch 76/100\n",
      "1046/1046 [==============================] - 176s 168ms/step - loss: 0.0542 - accuracy: 0.9637 - val_loss: 1.1584 - val_accuracy: 0.7586\n",
      "\n",
      "Epoch 00076: val_accuracy did not improve from 0.78161\n",
      "Epoch 77/100\n",
      "1046/1046 [==============================] - 174s 166ms/step - loss: 0.0538 - accuracy: 0.9694 - val_loss: 1.0984 - val_accuracy: 0.7701\n",
      "\n",
      "Epoch 00077: val_accuracy did not improve from 0.78161\n",
      "Epoch 78/100\n",
      "1046/1046 [==============================] - 152s 145ms/step - loss: 0.0729 - accuracy: 0.9608 - val_loss: 1.1312 - val_accuracy: 0.7356\n",
      "\n",
      "Epoch 00078: val_accuracy did not improve from 0.78161\n",
      "Epoch 79/100\n",
      "1046/1046 [==============================] - 154s 147ms/step - loss: 0.0953 - accuracy: 0.9589 - val_loss: 0.9381 - val_accuracy: 0.7548\n",
      "\n",
      "Epoch 00079: val_accuracy did not improve from 0.78161\n",
      "Epoch 80/100\n",
      "1046/1046 [==============================] - 149s 143ms/step - loss: 0.0732 - accuracy: 0.9627 - val_loss: 1.1184 - val_accuracy: 0.7778\n",
      "\n",
      "Epoch 00080: val_accuracy did not improve from 0.78161\n",
      "Epoch 81/100\n",
      "1046/1046 [==============================] - 152s 146ms/step - loss: 0.0676 - accuracy: 0.9646 - val_loss: 1.0247 - val_accuracy: 0.7739\n",
      "\n",
      "Epoch 00081: val_accuracy did not improve from 0.78161\n",
      "Epoch 82/100\n",
      "1046/1046 [==============================] - 151s 145ms/step - loss: 0.0637 - accuracy: 0.9713 - val_loss: 1.1633 - val_accuracy: 0.7663\n",
      "\n",
      "Epoch 00082: val_accuracy did not improve from 0.78161\n",
      "Epoch 83/100\n",
      "1046/1046 [==============================] - 158s 151ms/step - loss: 0.0644 - accuracy: 0.9665 - val_loss: 1.1194 - val_accuracy: 0.7510\n",
      "\n",
      "Epoch 00083: val_accuracy did not improve from 0.78161\n",
      "Epoch 84/100\n",
      "1046/1046 [==============================] - 157s 150ms/step - loss: 0.0547 - accuracy: 0.9713 - val_loss: 1.1537 - val_accuracy: 0.7701\n",
      "\n",
      "Epoch 00084: val_accuracy did not improve from 0.78161\n",
      "Epoch 85/100\n",
      "1046/1046 [==============================] - 157s 150ms/step - loss: 0.0652 - accuracy: 0.9656 - val_loss: 1.1349 - val_accuracy: 0.7433\n",
      "\n",
      "Epoch 00085: val_accuracy did not improve from 0.78161\n",
      "Epoch 86/100\n",
      "1046/1046 [==============================] - 156s 150ms/step - loss: 0.0633 - accuracy: 0.9694 - val_loss: 1.1668 - val_accuracy: 0.7433\n",
      "\n",
      "Epoch 00086: val_accuracy did not improve from 0.78161\n",
      "Epoch 87/100\n",
      "1046/1046 [==============================] - 158s 151ms/step - loss: 0.0584 - accuracy: 0.9704 - val_loss: 1.1223 - val_accuracy: 0.7586\n",
      "\n",
      "Epoch 00087: val_accuracy did not improve from 0.78161\n",
      "Epoch 88/100\n",
      "1046/1046 [==============================] - 157s 150ms/step - loss: 0.0607 - accuracy: 0.9694 - val_loss: 1.0717 - val_accuracy: 0.7548\n",
      "\n",
      "Epoch 00088: val_accuracy did not improve from 0.78161\n",
      "Epoch 89/100\n",
      "1046/1046 [==============================] - 160s 153ms/step - loss: 0.0622 - accuracy: 0.9694 - val_loss: 1.1176 - val_accuracy: 0.7510\n",
      "\n",
      "Epoch 00089: val_accuracy did not improve from 0.78161\n",
      "Epoch 90/100\n",
      "1046/1046 [==============================] - 163s 156ms/step - loss: 0.0734 - accuracy: 0.9656 - val_loss: 1.1003 - val_accuracy: 0.7395\n",
      "\n",
      "Epoch 00090: val_accuracy did not improve from 0.78161\n",
      "Epoch 91/100\n",
      "1046/1046 [==============================] - 158s 151ms/step - loss: 0.0643 - accuracy: 0.9646 - val_loss: 1.1580 - val_accuracy: 0.7471\n",
      "\n",
      "Epoch 00091: val_accuracy did not improve from 0.78161\n",
      "Epoch 92/100\n",
      "1046/1046 [==============================] - 156s 149ms/step - loss: 0.0597 - accuracy: 0.9675 - val_loss: 1.1899 - val_accuracy: 0.7471\n",
      "\n",
      "Epoch 00092: val_accuracy did not improve from 0.78161\n",
      "Epoch 93/100\n",
      "1046/1046 [==============================] - 153s 147ms/step - loss: 0.0606 - accuracy: 0.9646 - val_loss: 1.0808 - val_accuracy: 0.7701\n",
      "\n",
      "Epoch 00093: val_accuracy did not improve from 0.78161\n",
      "Epoch 94/100\n",
      "1046/1046 [==============================] - 161s 154ms/step - loss: 0.0543 - accuracy: 0.9713 - val_loss: 1.1013 - val_accuracy: 0.7816\n",
      "\n",
      "Epoch 00094: val_accuracy did not improve from 0.78161\n",
      "Epoch 95/100\n",
      "1046/1046 [==============================] - 159s 152ms/step - loss: 0.0558 - accuracy: 0.9675 - val_loss: 1.1860 - val_accuracy: 0.7778\n",
      "\n",
      "Epoch 00095: val_accuracy did not improve from 0.78161\n",
      "Epoch 96/100\n",
      "1046/1046 [==============================] - 151s 144ms/step - loss: 0.0514 - accuracy: 0.9685 - val_loss: 1.2033 - val_accuracy: 0.7548\n",
      "\n",
      "Epoch 00096: val_accuracy did not improve from 0.78161\n",
      "Epoch 97/100\n",
      "1046/1046 [==============================] - 152s 145ms/step - loss: 0.0590 - accuracy: 0.9675 - val_loss: 1.1288 - val_accuracy: 0.7663\n",
      "\n",
      "Epoch 00097: val_accuracy did not improve from 0.78161\n",
      "Epoch 98/100\n",
      "1046/1046 [==============================] - 154s 148ms/step - loss: 0.0544 - accuracy: 0.9646 - val_loss: 1.1591 - val_accuracy: 0.7739\n",
      "\n",
      "Epoch 00098: val_accuracy did not improve from 0.78161\n",
      "Epoch 99/100\n",
      "1046/1046 [==============================] - 154s 148ms/step - loss: 0.0556 - accuracy: 0.9637 - val_loss: 1.2254 - val_accuracy: 0.7586\n",
      "\n",
      "Epoch 00099: val_accuracy did not improve from 0.78161\n",
      "Epoch 100/100\n",
      "1046/1046 [==============================] - 152s 145ms/step - loss: 0.0559 - accuracy: 0.9732 - val_loss: 1.1781 - val_accuracy: 0.7625\n",
      "\n",
      "Epoch 00100: val_accuracy did not improve from 0.78161\n"
     ]
    }
   ]
  },
  {
   "cell_type": "code",
   "source": [
    "print('The effect on the test set：', model.evaluate(x_test, y_test))"
   ],
   "metadata": {
    "colab": {
     "base_uri": "https://localhost:8080/"
    },
    "id": "Ia0lZkyzTYVE",
    "executionInfo": {
     "status": "ok",
     "timestamp": 1659111661418,
     "user_tz": -420,
     "elapsed": 7598,
     "user": {
      "displayName": "Data Mining",
      "userId": "02757270100510414161"
     }
    },
    "outputId": "55170081-4876-4649-c4c0-07bb515f94a9"
   },
   "execution_count": 17,
   "outputs": [
    {
     "output_type": "stream",
     "name": "stdout",
     "text": [
      "261/261 [==============================] - 8s 30ms/step\n",
      "The effect on the test set： [1.17810379819395, 0.7624521255493164]\n"
     ]
    }
   ]
  },
  {
   "cell_type": "code",
   "source": [
    "with open('/content/drive/MyDrive/Rearch_Dimas/BILSTM_CRF_RE/input/rel_dict.json', 'r', encoding='utf-8') as f:\n",
    "    label_id_dict = json.loads(f.read())\n",
    "\n",
    "sorted_label_id_dict = sorted(label_id_dict.items(), key=itemgetter(1))\n",
    "values = [_[0] for _ in sorted_label_id_dict]"
   ],
   "metadata": {
    "id": "UwxRDxUKTcZo",
    "executionInfo": {
     "status": "ok",
     "timestamp": 1659111661419,
     "user_tz": -420,
     "elapsed": 25,
     "user": {
      "displayName": "Data Mining",
      "userId": "02757270100510414161"
     }
    }
   },
   "execution_count": 18,
   "outputs": []
  },
  {
   "cell_type": "code",
   "source": [
    "y_pred = model.predict(x_test, batch_size=8)\n",
    "print(classification_report(y_test.argmax(axis=1), y_pred.argmax(axis=1), target_names=values))"
   ],
   "metadata": {
    "colab": {
     "base_uri": "https://localhost:8080/"
    },
    "id": "_xLhnbKkTfT3",
    "executionInfo": {
     "status": "ok",
     "timestamp": 1659111674508,
     "user_tz": -420,
     "elapsed": 13113,
     "user": {
      "displayName": "Data Mining",
      "userId": "02757270100510414161"
     }
    },
    "outputId": "ea0cabf7-dfb5-4d59-a0ac-01d7774c02a4"
   },
   "execution_count": 19,
   "outputs": [
    {
     "output_type": "stream",
     "name": "stdout",
     "text": [
      "                      precision    recall  f1-score   support\n",
      "\n",
      "            Negative       0.77      0.73      0.75       118\n",
      "    Cause_of_disease       0.62      0.76      0.68        37\n",
      "Treatment_of_disease       0.81      0.85      0.83        98\n",
      "         Association       0.67      0.25      0.36         8\n",
      "\n",
      "            accuracy                           0.76       261\n",
      "           macro avg       0.72      0.65      0.66       261\n",
      "        weighted avg       0.76      0.76      0.76       261\n",
      "\n"
     ]
    }
   ]
  },
  {
   "cell_type": "markdown",
   "source": [
    "model 1"
   ],
   "metadata": {
    "id": "wzqV8819xT1p"
   }
  },
  {
   "cell_type": "code",
   "source": [
    "model = load_model(\n",
    "  \"/content/drive/MyDrive/Rearch_Dimas/BILSTM_CRF_RE/output/per-rel-01-0.5939.hdf5\", \n",
    "  custom_objects={\"Attention\": Attention})\n",
    "\n",
    "y_pred = model.predict(x_test, batch_size=8)\n",
    "\n",
    "print(classification_report(y_test.argmax(axis=1), y_pred.argmax(axis=1), target_names=values))"
   ],
   "metadata": {
    "colab": {
     "base_uri": "https://localhost:8080/"
    },
    "id": "4Jcp13v5xCMJ",
    "executionInfo": {
     "status": "ok",
     "timestamp": 1659111845125,
     "user_tz": -420,
     "elapsed": 20750,
     "user": {
      "displayName": "Data Mining",
      "userId": "02757270100510414161"
     }
    },
    "outputId": "c4817b05-8f56-4681-86b1-8366c98a9b88"
   },
   "execution_count": 25,
   "outputs": [
    {
     "output_type": "stream",
     "name": "stdout",
     "text": [
      "                      precision    recall  f1-score   support\n",
      "\n",
      "            Negative       0.57      0.76      0.65       118\n",
      "    Cause_of_disease       0.00      0.00      0.00        37\n",
      "Treatment_of_disease       0.63      0.66      0.65        98\n",
      "         Association       0.00      0.00      0.00         8\n",
      "\n",
      "            accuracy                           0.59       261\n",
      "           macro avg       0.30      0.36      0.32       261\n",
      "        weighted avg       0.49      0.59      0.54       261\n",
      "\n"
     ]
    }
   ]
  },
  {
   "cell_type": "markdown",
   "source": [
    "model 2"
   ],
   "metadata": {
    "id": "GFTN-a02xWfv"
   }
  },
  {
   "cell_type": "code",
   "source": [
    "model = load_model(\n",
    "  \"/content/drive/MyDrive/Rearch_Dimas/BILSTM_CRF_RE/output/per-rel-02-0.6092.hdf5\", \n",
    "  custom_objects={\"Attention\": Attention})\n",
    "\n",
    "y_pred = model.predict(x_test, batch_size=8)\n",
    "\n",
    "print(classification_report(y_test.argmax(axis=1), y_pred.argmax(axis=1), target_names=values))"
   ],
   "metadata": {
    "colab": {
     "base_uri": "https://localhost:8080/"
    },
    "id": "H3MJGrXxxJbv",
    "executionInfo": {
     "status": "ok",
     "timestamp": 1659111935714,
     "user_tz": -420,
     "elapsed": 24376,
     "user": {
      "displayName": "Data Mining",
      "userId": "02757270100510414161"
     }
    },
    "outputId": "9c8c8115-5deb-46de-8c9d-7a97eecc5356"
   },
   "execution_count": 28,
   "outputs": [
    {
     "output_type": "stream",
     "name": "stdout",
     "text": [
      "                      precision    recall  f1-score   support\n",
      "\n",
      "            Negative       0.67      0.46      0.54       118\n",
      "    Cause_of_disease       0.42      0.38      0.40        37\n",
      "Treatment_of_disease       0.62      0.93      0.74        98\n",
      "         Association       0.00      0.00      0.00         8\n",
      "\n",
      "            accuracy                           0.61       261\n",
      "           macro avg       0.43      0.44      0.42       261\n",
      "        weighted avg       0.59      0.61      0.58       261\n",
      "\n"
     ]
    }
   ]
  },
  {
   "cell_type": "markdown",
   "source": [
    "model 3"
   ],
   "metadata": {
    "id": "r0DkLF9Sxtr5"
   }
  },
  {
   "cell_type": "code",
   "source": [
    "model = load_model(\n",
    "  \"/content/drive/MyDrive/Rearch_Dimas/BILSTM_CRF_RE/output/per-rel-03-0.7165.hdf5\", \n",
    "  custom_objects={\"Attention\": Attention})\n",
    "\n",
    "y_pred = model.predict(x_test, batch_size=8)\n",
    "\n",
    "print(classification_report(y_test.argmax(axis=1), y_pred.argmax(axis=1), target_names=values))"
   ],
   "metadata": {
    "colab": {
     "base_uri": "https://localhost:8080/"
    },
    "id": "8ULbaQIbxs7U",
    "executionInfo": {
     "status": "ok",
     "timestamp": 1659111963758,
     "user_tz": -420,
     "elapsed": 24984,
     "user": {
      "displayName": "Data Mining",
      "userId": "02757270100510414161"
     }
    },
    "outputId": "b7330c7e-55fa-4b42-9b24-303bce2922e5"
   },
   "execution_count": 29,
   "outputs": [
    {
     "output_type": "stream",
     "name": "stdout",
     "text": [
      "                      precision    recall  f1-score   support\n",
      "\n",
      "            Negative       0.69      0.75      0.72       118\n",
      "    Cause_of_disease       0.74      0.46      0.57        37\n",
      "Treatment_of_disease       0.75      0.84      0.79        98\n",
      "         Association       0.00      0.00      0.00         8\n",
      "\n",
      "            accuracy                           0.72       261\n",
      "           macro avg       0.54      0.51      0.52       261\n",
      "        weighted avg       0.70      0.72      0.70       261\n",
      "\n"
     ]
    }
   ]
  },
  {
   "cell_type": "markdown",
   "source": [
    "model 4"
   ],
   "metadata": {
    "id": "YKzBQGC9x69g"
   }
  },
  {
   "cell_type": "code",
   "source": [
    "model = load_model(\n",
    "  \"/content/drive/MyDrive/Rearch_Dimas/BILSTM_CRF_RE/output/per-rel-07-0.7471.hdf5\", \n",
    "  custom_objects={\"Attention\": Attention})\n",
    "\n",
    "y_pred = model.predict(x_test, batch_size=8)\n",
    "\n",
    "print(classification_report(y_test.argmax(axis=1), y_pred.argmax(axis=1), target_names=values))"
   ],
   "metadata": {
    "colab": {
     "base_uri": "https://localhost:8080/"
    },
    "id": "eEN0C0RCx6Xk",
    "executionInfo": {
     "status": "ok",
     "timestamp": 1659112017266,
     "user_tz": -420,
     "elapsed": 25732,
     "user": {
      "displayName": "Data Mining",
      "userId": "02757270100510414161"
     }
    },
    "outputId": "65ab5702-8086-4c90-f5dd-01aedd8cef49"
   },
   "execution_count": 30,
   "outputs": [
    {
     "output_type": "stream",
     "name": "stdout",
     "text": [
      "                      precision    recall  f1-score   support\n",
      "\n",
      "            Negative       0.74      0.71      0.73       118\n",
      "    Cause_of_disease       0.62      0.68      0.65        37\n",
      "Treatment_of_disease       0.80      0.88      0.83        98\n",
      "         Association       0.00      0.00      0.00         8\n",
      "\n",
      "            accuracy                           0.75       261\n",
      "           macro avg       0.54      0.57      0.55       261\n",
      "        weighted avg       0.72      0.75      0.73       261\n",
      "\n"
     ]
    }
   ]
  },
  {
   "cell_type": "markdown",
   "source": [
    "model 5"
   ],
   "metadata": {
    "id": "-tuhftjVx_Cm"
   }
  },
  {
   "cell_type": "code",
   "source": [
    "model = load_model(\n",
    "  \"/content/drive/MyDrive/Rearch_Dimas/BILSTM_CRF_RE/output/per-rel-11-0.7739.hdf5\", \n",
    "  custom_objects={\"Attention\": Attention})\n",
    "\n",
    "y_pred = model.predict(x_test, batch_size=8)\n",
    "\n",
    "print(classification_report(y_test.argmax(axis=1), y_pred.argmax(axis=1), target_names=values))"
   ],
   "metadata": {
    "colab": {
     "base_uri": "https://localhost:8080/"
    },
    "id": "iyASyx8EyAWC",
    "executionInfo": {
     "status": "ok",
     "timestamp": 1659112046966,
     "user_tz": -420,
     "elapsed": 29710,
     "user": {
      "displayName": "Data Mining",
      "userId": "02757270100510414161"
     }
    },
    "outputId": "e805709b-42b3-4cf3-9291-d16fa20a17cf"
   },
   "execution_count": 31,
   "outputs": [
    {
     "output_type": "stream",
     "name": "stdout",
     "text": [
      "                      precision    recall  f1-score   support\n",
      "\n",
      "            Negative       0.78      0.72      0.75       118\n",
      "    Cause_of_disease       0.68      0.73      0.70        37\n",
      "Treatment_of_disease       0.80      0.92      0.86        98\n",
      "         Association       0.00      0.00      0.00         8\n",
      "\n",
      "            accuracy                           0.77       261\n",
      "           macro avg       0.56      0.59      0.58       261\n",
      "        weighted avg       0.75      0.77      0.76       261\n",
      "\n"
     ]
    }
   ]
  },
  {
   "cell_type": "markdown",
   "source": [
    "model 6"
   ],
   "metadata": {
    "id": "seMtW17EyHgO"
   }
  },
  {
   "cell_type": "code",
   "source": [
    "model = load_model(\n",
    "  \"/content/drive/MyDrive/Rearch_Dimas/BILSTM_CRF_RE/output/per-rel-71-0.7816.hdf5\", \n",
    "  custom_objects={\"Attention\": Attention})\n",
    "\n",
    "y_pred = model.predict(x_test, batch_size=8)\n",
    "\n",
    "print(classification_report(y_test.argmax(axis=1), y_pred.argmax(axis=1), target_names=values))"
   ],
   "metadata": {
    "colab": {
     "base_uri": "https://localhost:8080/"
    },
    "id": "YbMd99RpyGZK",
    "executionInfo": {
     "status": "ok",
     "timestamp": 1659112078925,
     "user_tz": -420,
     "elapsed": 28000,
     "user": {
      "displayName": "Data Mining",
      "userId": "02757270100510414161"
     }
    },
    "outputId": "dd9121f2-56a0-4a25-ed0c-f5084e20f288"
   },
   "execution_count": 32,
   "outputs": [
    {
     "output_type": "stream",
     "name": "stdout",
     "text": [
      "                      precision    recall  f1-score   support\n",
      "\n",
      "            Negative       0.76      0.78      0.77       118\n",
      "    Cause_of_disease       0.68      0.76      0.72        37\n",
      "Treatment_of_disease       0.86      0.85      0.85        98\n",
      "         Association       0.50      0.12      0.20         8\n",
      "\n",
      "            accuracy                           0.78       261\n",
      "           macro avg       0.70      0.63      0.63       261\n",
      "        weighted avg       0.78      0.78      0.78       261\n",
      "\n"
     ]
    }
   ]
  },
  {
   "cell_type": "markdown",
   "source": [
    "Chart Loss and Accuracy"
   ],
   "metadata": {
    "id": "WnMG5VOsULWr"
   }
  },
  {
   "cell_type": "code",
   "source": [
    "plt.subplot(2, 1, 1)\n",
    "epochs = len(history.history['loss'])\n",
    "plt.plot(range(epochs), history.history['loss'], label='loss')\n",
    "plt.plot(range(epochs), history.history['val_loss'], label='val_loss')\n",
    "plt.legend()\n",
    "\n",
    "plt.subplot(2, 1, 2)\n",
    "epochs = len(history.history['accuracy'])\n",
    "plt.plot(range(epochs), history.history['accuracy'], label='acc')\n",
    "plt.plot(range(epochs), history.history['val_accuracy'], label='val_acc')\n",
    "plt.legend()\n",
    "plt.savefig(\"/content/drive/MyDrive/Rearch_Dimas/BILSTM_CRF_RE/output/loss_acc.png\")"
   ],
   "metadata": {
    "colab": {
     "base_uri": "https://localhost:8080/",
     "height": 269
    },
    "id": "OWWBtIyaTh5H",
    "executionInfo": {
     "status": "ok",
     "timestamp": 1659111678614,
     "user_tz": -420,
     "elapsed": 525,
     "user": {
      "displayName": "Data Mining",
      "userId": "02757270100510414161"
     }
    },
    "outputId": "3262eb59-905e-4106-fee4-009ea786fcfe"
   },
   "execution_count": 21,
   "outputs": [
    {
     "output_type": "display_data",
     "data": {
      "text/plain": [
       "<Figure size 432x288 with 2 Axes>"
      ],
      "image/png": "[encoded data removed]"
     },
     "metadata": {
      "needs_background": "light"
     }
    }
   ]
  },
  {
   "cell_type": "markdown",
   "source": [
    "# Predict"
   ],
   "metadata": {
    "id": "iC2ouQxPeAys"
   }
  },
  {
   "cell_type": "code",
   "source": [
    "! python /content/drive/MyDrive/Rearch_Dimas/BILSTM_CRF_RE/model_predict.py"
   ],
   "metadata": {
    "colab": {
     "base_uri": "https://localhost:8080/"
    },
    "id": "0zRHf7dKaVZ9",
    "executionInfo": {
     "status": "ok",
     "timestamp": 1659156368577,
     "user_tz": -420,
     "elapsed": 111032,
     "user": {
      "displayName": "Data Mining",
      "userId": "02757270100510414161"
     }
    },
    "outputId": "d7035bfc-9585-4fc6-ab85-7978356eda44"
   },
   "execution_count": 386,
   "outputs": [
    {
     "output_type": "stream",
     "name": "stdout",
     "text": [
      "/usr/local/lib/python3.7/dist-packages/tensorflow/python/framework/dtypes.py:526: FutureWarning: Passing (type, 1) or '1type' as a synonym of type is deprecated; in a future version of numpy, it will be understood as (type, (1,)) / '(1,)type'.\n",
      "  _np_qint8 = np.dtype([(\"qint8\", np.int8, 1)])\n",
      "/usr/local/lib/python3.7/dist-packages/tensorflow/python/framework/dtypes.py:527: FutureWarning: Passing (type, 1) or '1type' as a synonym of type is deprecated; in a future version of numpy, it will be understood as (type, (1,)) / '(1,)type'.\n",
      "  _np_quint8 = np.dtype([(\"quint8\", np.uint8, 1)])\n",
      "/usr/local/lib/python3.7/dist-packages/tensorflow/python/framework/dtypes.py:528: FutureWarning: Passing (type, 1) or '1type' as a synonym of type is deprecated; in a future version of numpy, it will be understood as (type, (1,)) / '(1,)type'.\n",
      "  _np_qint16 = np.dtype([(\"qint16\", np.int16, 1)])\n",
      "/usr/local/lib/python3.7/dist-packages/tensorflow/python/framework/dtypes.py:529: FutureWarning: Passing (type, 1) or '1type' as a synonym of type is deprecated; in a future version of numpy, it will be understood as (type, (1,)) / '(1,)type'.\n",
      "  _np_quint16 = np.dtype([(\"quint16\", np.uint16, 1)])\n",
      "/usr/local/lib/python3.7/dist-packages/tensorflow/python/framework/dtypes.py:530: FutureWarning: Passing (type, 1) or '1type' as a synonym of type is deprecated; in a future version of numpy, it will be understood as (type, (1,)) / '(1,)type'.\n",
      "  _np_qint32 = np.dtype([(\"qint32\", np.int32, 1)])\n",
      "/usr/local/lib/python3.7/dist-packages/tensorflow/python/framework/dtypes.py:535: FutureWarning: Passing (type, 1) or '1type' as a synonym of type is deprecated; in a future version of numpy, it will be understood as (type, (1,)) / '(1,)type'.\n",
      "  np_resource = np.dtype([(\"resource\", np.ubyte, 1)])\n",
      "Using TensorFlow backend.\n",
      "WARNING:tensorflow:From /usr/local/lib/python3.7/dist-packages/tensorflow/python/ops/resource_variable_ops.py:435: colocate_with (from tensorflow.python.framework.ops) is deprecated and will be removed in a future version.\n",
      "Instructions for updating:\n",
      "Colocations handled automatically by placer.\n",
      "2022-07-30 04:44:21.831035: I tensorflow/core/platform/cpu_feature_guard.cc:141] Your CPU supports instructions that this TensorFlow binary was not compiled to use: AVX2 FMA\n",
      "2022-07-30 04:44:21.886291: I tensorflow/core/platform/profile_utils/cpu_utils.cc:94] CPU Frequency: 2199995000 Hz\n",
      "2022-07-30 04:44:21.893417: I tensorflow/compiler/xla/service/service.cc:150] XLA service 0x13dcc00 executing computations on platform Host. Devices:\n",
      "2022-07-30 04:44:21.893480: I tensorflow/compiler/xla/service/service.cc:158]   StreamExecutor device (0): <undefined>, <undefined>\n",
      "WARNING:tensorflow:From /usr/local/lib/python3.7/dist-packages/tensorflow/python/ops/math_ops.py:3066: to_int32 (from tensorflow.python.ops.math_ops) is deprecated and will be removed in a future version.\n",
      "Instructions for updating:\n",
      "Use tf.cast instead.\n",
      "green tea$skin papillomas$Inhibitory effect of ######### on the growth of established ############### in mice.\n",
      "I:\u001B[33mPROCESS\u001B[0m:[graph:opt: 49]:model config: /content/drive/.shortcut-targets-by-id/1tMCSnLWNFyP9tUG4_zezlaVZtBtTWHQL/BILSTM_CRF_RE/multi_cased_L-12_H-768_A-12/bert_config.json\n",
      "I:\u001B[33mPROCESS\u001B[0m:[graph:opt: 55]:build graph...\n",
      "\n",
      "WARNING: The TensorFlow contrib module will not be included in TensorFlow 2.0.\n",
      "For more information, please see:\n",
      "  * https://github.com/tensorflow/community/blob/master/rfcs/20180907-contrib-sunset.md\n",
      "  * https://github.com/tensorflow/addons\n",
      "If you depend on functionality not listed there, please file an issue.\n",
      "\n",
      "I:\u001B[33mPROCESS\u001B[0m:[graph:opt:132]:load parameters from checkpoint...\n",
      "2022-07-30 04:44:31.540464: W tensorflow/core/framework/allocator.cc:124] Allocation of 367248384 exceeds 10% of system memory.\n",
      "I:\u001B[33mPROCESS\u001B[0m:[graph:opt:134]:freeze...\n",
      "I:\u001B[33mPROCESS\u001B[0m:[graph:opt:137]:optimize...\n",
      "I:\u001B[33mPROCESS\u001B[0m:[graph:opt:148]:write graph to a tmp file: /content/drive/MyDrive/Rearch_Dimas/BILSTM_CRF_RE/tmp_graph11\n",
      "2022-07-30 04:44:52.485147: W tensorflow/core/framework/allocator.cc:124] Allocation of 367248384 exceeds 10% of system memory.\n",
      "2022-07-30 04:44:55.129675: W tensorflow/core/framework/allocator.cc:124] Allocation of 367248384 exceeds 10% of system memory.\n",
      "2022-07-30 04:44:57.056045: W tensorflow/core/framework/allocator.cc:124] Allocation of 367248384 exceeds 10% of system memory.\n",
      "2022-07-30 04:45:09.085918: W tensorflow/core/framework/allocator.cc:124] Allocation of 367248384 exceeds 10% of system memory.\n",
      "original: green tea#skin papillomas#Inhibitory effect of green tea on the growth of established skin papillomas in mice.\n",
      "Predict character relationships: Treatment_of_disease\n"
     ]
    }
   ]
  }
 ],
 "metadata": {
  "colab": {
   "name": "BILSTM-CRF-RE.ipynb",
   "provenance": [],
   "machine_shape": "hm",
   "collapsed_sections": [],
   "authorship_tag": "ABX9TyOkrO+2NEG62oOUunnjvN+8"
  },
  "gpuClass": "standard",
  "kernelspec": {
   "display_name": "Python 3",
   "name": "python3"
  },
  "language_info": {
   "name": "python"
  }
 },
 "nbformat": 4,
 "nbformat_minor": 0
}